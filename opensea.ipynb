{
 "cells": [
  {
   "cell_type": "code",
   "execution_count": 11,
   "metadata": {},
   "outputs": [],
   "source": [
    "import time\n",
    "import requests \n",
    "import json\n",
    "API_KEY='DQUPP2G4NIESACM87R5CD8P9I6EXTBJDF8'\n",
    "url = 'https://api.etherscan.io/api'\n",
    "params = {\n",
    "  'module': 'block',\n",
    "  'action': 'getblocknobytime',\n",
    "  'timestamp' : int(time.time() // 1),\n",
    "  'closest': 'before',\n",
    "  'apikey': API_KEY\n",
    "}\n",
    "r = requests.get(url, params=params)\n",
    "json_data = json.loads(r.text)[\"result\"]\n",
    "LATEST_BLOCK = int(json_data)\n",
    "\n",
    "BLOCK_START = LATEST_BLOCK - 40\n",
    "\n",
    "OPENSEA_CONTRACT = '0x7Be8076f4EA4A4AD08075C2508e481d6C946D12b'\n",
    "url = 'https://api.etherscan.io/api'\n",
    "params = {\n",
    "  'module': 'logs',\n",
    "  'action': 'getLogs',\n",
    "  'fromBlock' : LATEST_BLOCK,\n",
    "  'toBlock': 'latest',\n",
    "  'address': OPENSEA_CONTRACT,\n",
    "  'apikey': API_KEY\n",
    "}\n",
    "r = requests.get(url, params=params)\n",
    "json_data = json.loads(r.text)[\"result\"]"
   ]
  },
  {
   "cell_type": "code",
   "execution_count": 13,
   "metadata": {},
   "outputs": [
    {
     "data": {
      "text/plain": [
       "15484097"
      ]
     },
     "execution_count": 13,
     "metadata": {},
     "output_type": "execute_result"
    }
   ],
   "source": [
    "LATEST_BLOCK"
   ]
  },
  {
   "cell_type": "code",
   "execution_count": 12,
   "metadata": {},
   "outputs": [],
   "source": [
    "BLOCK_START = LATEST_BLOCK - 40\n",
    "\n",
    "OPENSEA_CONTRACT = '0x7Be8076f4EA4A4AD08075C2508e481d6C946D12b'\n",
    "url = 'https://api.etherscan.io/api'\n",
    "params = {\n",
    "  'module': 'logs',\n",
    "  'action': 'getLogs',\n",
    "  'fromBlock' : BLOCK_START,\n",
    "  'toBlock': 'latest',\n",
    "  'address': OPENSEA_CONTRACT,\n",
    "  'apikey': API_KEY\n",
    "}\n",
    "r = requests.get(url, params=params)\n",
    "json_data = json.loads(r.text)[\"result\"]"
   ]
  },
  {
   "cell_type": "code",
   "execution_count": 7,
   "metadata": {},
   "outputs": [
    {
     "ename": "ModuleNotFoundError",
     "evalue": "No module named 'Cryptodome'",
     "output_type": "error",
     "traceback": [
      "\u001b[0;31m---------------------------------------------------------------------------\u001b[0m",
      "\u001b[0;31mModuleNotFoundError\u001b[0m                       Traceback (most recent call last)",
      "\u001b[0;32m<ipython-input-7-fa4974952292>\u001b[0m in \u001b[0;36m<module>\u001b[0;34m\u001b[0m\n\u001b[0;32m----> 1\u001b[0;31m \u001b[0;32mfrom\u001b[0m \u001b[0mCryptodome\u001b[0m\u001b[0;34m.\u001b[0m\u001b[0mHash\u001b[0m \u001b[0;32mimport\u001b[0m \u001b[0mkeccak\u001b[0m\u001b[0;34m\u001b[0m\u001b[0;34m\u001b[0m\u001b[0m\n\u001b[0m\u001b[1;32m      2\u001b[0m \u001b[0mmethod\u001b[0m \u001b[0;34m=\u001b[0m \u001b[0;34mb'OrdersMatched(bytes32,bytes32,address,address,uint256,bytes32)'\u001b[0m\u001b[0;34m\u001b[0m\u001b[0;34m\u001b[0m\u001b[0m\n\u001b[1;32m      3\u001b[0m \u001b[0mk\u001b[0m \u001b[0;34m=\u001b[0m \u001b[0mkeccak\u001b[0m\u001b[0;34m.\u001b[0m\u001b[0mnew\u001b[0m\u001b[0;34m(\u001b[0m\u001b[0mdigest_bits\u001b[0m\u001b[0;34m=\u001b[0m\u001b[0;36m256\u001b[0m\u001b[0;34m)\u001b[0m\u001b[0;34m\u001b[0m\u001b[0;34m\u001b[0m\u001b[0m\n\u001b[1;32m      4\u001b[0m \u001b[0mk\u001b[0m\u001b[0;34m.\u001b[0m\u001b[0mupdate\u001b[0m\u001b[0;34m(\u001b[0m\u001b[0mmethod\u001b[0m\u001b[0;34m)\u001b[0m\u001b[0;34m\u001b[0m\u001b[0;34m\u001b[0m\u001b[0m\n\u001b[1;32m      5\u001b[0m \u001b[0mprint\u001b[0m\u001b[0;34m(\u001b[0m\u001b[0;34m'0x'\u001b[0m\u001b[0;34m+\u001b[0m\u001b[0mk\u001b[0m\u001b[0;34m.\u001b[0m\u001b[0mhexdigest\u001b[0m\u001b[0;34m(\u001b[0m\u001b[0;34m)\u001b[0m\u001b[0;34m)\u001b[0m\u001b[0;34m\u001b[0m\u001b[0;34m\u001b[0m\u001b[0m\n",
      "\u001b[0;31mModuleNotFoundError\u001b[0m: No module named 'Cryptodome'"
     ]
    }
   ],
   "source": [
    "from Cryptodome.Hash import keccak\n",
    "method = b'OrdersMatched(bytes32,bytes32,address,address,uint256,bytes32)'\n",
    "k = keccak.new(digest_bits=256)\n",
    "k.update(method)\n",
    "print('0x'+k.hexdigest())"
   ]
  },
  {
   "cell_type": "code",
   "execution_count": 9,
   "metadata": {},
   "outputs": [
    {
     "name": "stdout",
     "output_type": "stream",
     "text": [
      "Found existing installation: pycrypto 2.6.1\n",
      "Uninstalling pycrypto-2.6.1:\n",
      "  Successfully uninstalled pycrypto-2.6.1\n",
      "Note: you may need to restart the kernel to use updated packages.\n"
     ]
    }
   ],
   "source": [
    "pip uninstall -y pycrypto\n"
   ]
  },
  {
   "cell_type": "code",
   "execution_count": 6,
   "metadata": {},
   "outputs": [
    {
     "name": "stdout",
     "output_type": "stream",
     "text": [
      "Collecting pycryptodome\n",
      "  Downloading pycryptodome-3.15.0-cp35-abi3-macosx_10_9_x86_64.whl (1.6 MB)\n",
      "\u001b[K     |████████████████████████████████| 1.6 MB 11.8 MB/s eta 0:00:01\n",
      "\u001b[?25hInstalling collected packages: pycryptodome\n",
      "Successfully installed pycryptodome-3.15.0\n",
      "Note: you may need to restart the kernel to use updated packages.\n"
     ]
    }
   ],
   "source": [
    "pip install pycryptodome"
   ]
  },
  {
   "cell_type": "code",
   "execution_count": null,
   "metadata": {},
   "outputs": [],
   "source": []
  }
 ],
 "metadata": {
  "kernelspec": {
   "display_name": "Python 3",
   "language": "python",
   "name": "python3"
  },
  "language_info": {
   "codemirror_mode": {
    "name": "ipython",
    "version": 3
   },
   "file_extension": ".py",
   "mimetype": "text/x-python",
   "name": "python",
   "nbconvert_exporter": "python",
   "pygments_lexer": "ipython3",
   "version": "3.8.3"
  }
 },
 "nbformat": 4,
 "nbformat_minor": 4
}
